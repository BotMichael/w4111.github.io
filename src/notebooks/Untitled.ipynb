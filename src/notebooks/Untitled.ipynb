{
 "cells": [
  {
   "cell_type": "code",
   "execution_count": 4,
   "id": "4b834cda",
   "metadata": {},
   "outputs": [],
   "source": [
    "import duckdb\n",
    "from pygg import *\n"
   ]
  },
  {
   "cell_type": "code",
   "execution_count": 2,
   "id": "b3b608ea",
   "metadata": {},
   "outputs": [
    {
     "data": {
      "text/plain": [
       "<duckdb.DuckDBPyConnection at 0x7fce90eaca30>"
      ]
     },
     "execution_count": 2,
     "metadata": {},
     "output_type": "execute_result"
    }
   ],
   "source": [
    "db = duckdb.connect(\"./hw0.db\")\n"
   ]
  },
  {
   "cell_type": "code",
   "execution_count": 3,
   "id": "e821ea98",
   "metadata": {},
   "outputs": [
    {
     "data": {
      "text/plain": [
       "<duckdb.DuckDBPyConnection at 0x7fce90eaca30>"
      ]
     },
     "execution_count": 3,
     "metadata": {},
     "output_type": "execute_result"
    }
   ],
   "source": [
    "db.execute(\"drop table ans\")\n",
    "db.execute(\"create table ans as SELECT * FROM read_csv_auto('./hw0form.csv')\")"
   ]
  },
  {
   "cell_type": "code",
   "execution_count": 6,
   "id": "5179a77e",
   "metadata": {},
   "outputs": [
    {
     "data": {
      "text/html": [
       "<div>\n",
       "<style scoped>\n",
       "    .dataframe tbody tr th:only-of-type {\n",
       "        vertical-align: middle;\n",
       "    }\n",
       "\n",
       "    .dataframe tbody tr th {\n",
       "        vertical-align: top;\n",
       "    }\n",
       "\n",
       "    .dataframe thead th {\n",
       "        text-align: right;\n",
       "    }\n",
       "</style>\n",
       "<table border=\"1\" class=\"dataframe\">\n",
       "  <thead>\n",
       "    <tr style=\"text-align: right;\">\n",
       "      <th></th>\n",
       "      <th>time</th>\n",
       "      <th>email</th>\n",
       "      <th>name</th>\n",
       "      <th>uni</th>\n",
       "      <th>goal</th>\n",
       "      <th>success</th>\n",
       "      <th>enjoy</th>\n",
       "      <th>competence</th>\n",
       "      <th>help</th>\n",
       "      <th>empower</th>\n",
       "      <th>honesty</th>\n",
       "      <th>hw</th>\n",
       "      <th>dishonesty</th>\n",
       "      <th>fail</th>\n",
       "    </tr>\n",
       "  </thead>\n",
       "  <tbody>\n",
       "    <tr>\n",
       "      <th>0</th>\n",
       "      <td>1/20/22 19:08</td>\n",
       "      <td>xr2154@columbia.edu</td>\n",
       "      <td>Xurxo Riesco</td>\n",
       "      <td>xr2154</td>\n",
       "      <td>Master design and implementation of databases ...</td>\n",
       "      <td>I would like to feel as comfortable in terms o...</td>\n",
       "      <td>NaN</td>\n",
       "      <td>7</td>\n",
       "      <td>I commit to helping my classmates succeed in W...</td>\n",
       "      <td>I empower myself to check the Syllabus, Lectur...</td>\n",
       "      <td>I have read and will abide by the CS departmen...</td>\n",
       "      <td>homeworks alone, projects in pairs</td>\n",
       "      <td>SEVERE ACADEMIC DISHONESTY</td>\n",
       "      <td>I understand that students can receive a faili...</td>\n",
       "    </tr>\n",
       "  </tbody>\n",
       "</table>\n",
       "</div>"
      ],
      "text/plain": [
       "            time                email          name     uni  \\\n",
       "0  1/20/22 19:08  xr2154@columbia.edu  Xurxo Riesco  xr2154   \n",
       "\n",
       "                                                goal  \\\n",
       "0  Master design and implementation of databases ...   \n",
       "\n",
       "                                             success enjoy  competence  \\\n",
       "0  I would like to feel as comfortable in terms o...   NaN           7   \n",
       "\n",
       "                                                help  \\\n",
       "0  I commit to helping my classmates succeed in W...   \n",
       "\n",
       "                                             empower  \\\n",
       "0  I empower myself to check the Syllabus, Lectur...   \n",
       "\n",
       "                                             honesty  \\\n",
       "0  I have read and will abide by the CS departmen...   \n",
       "\n",
       "                                   hw                  dishonesty  \\\n",
       "0  homeworks alone, projects in pairs  SEVERE ACADEMIC DISHONESTY   \n",
       "\n",
       "                                                fail  \n",
       "0  I understand that students can receive a faili...  "
      ]
     },
     "execution_count": 6,
     "metadata": {},
     "output_type": "execute_result"
    }
   ],
   "source": [
    "data = db.execute(\"select * from ans limit 1\").fetchdf()\n",
    "data"
   ]
  },
  {
   "cell_type": "code",
   "execution_count": 21,
   "id": "664401e5",
   "metadata": {},
   "outputs": [
    {
     "ename": "TypeError",
     "evalue": "values(): incompatible function arguments. The following argument types are supported:\n    1. (self: duckdb.DuckDBPyConnection, values: object) -> duckdb.DuckDBPyRelation\n\nInvoked with: <duckdb.DuckDBPyConnection object at 0x7fce90eaca30>",
     "output_type": "error",
     "traceback": [
      "\u001b[0;31m---------------------------------------------------------------------------\u001b[0m",
      "\u001b[0;31mTypeError\u001b[0m                                 Traceback (most recent call last)",
      "\u001b[0;32m<ipython-input-21-dfeed9de5eaf>\u001b[0m in \u001b[0;36m<module>\u001b[0;34m\u001b[0m\n\u001b[1;32m      1\u001b[0m \u001b[0mcur\u001b[0m \u001b[0;34m=\u001b[0m \u001b[0mdb\u001b[0m\u001b[0;34m.\u001b[0m\u001b[0mexecute\u001b[0m\u001b[0;34m(\u001b[0m\u001b[0;34m\"select hw, count(*) as c from ans group by hw\"\u001b[0m\u001b[0;34m)\u001b[0m\u001b[0;34m\u001b[0m\u001b[0;34m\u001b[0m\u001b[0m\n\u001b[0;32m----> 2\u001b[0;31m \u001b[0mcur\u001b[0m\u001b[0;34m.\u001b[0m\u001b[0mvalues\u001b[0m\u001b[0;34m(\u001b[0m\u001b[0;34m)\u001b[0m\u001b[0;34m\u001b[0m\u001b[0;34m\u001b[0m\u001b[0m\n\u001b[0m",
      "\u001b[0;31mTypeError\u001b[0m: values(): incompatible function arguments. The following argument types are supported:\n    1. (self: duckdb.DuckDBPyConnection, values: object) -> duckdb.DuckDBPyRelation\n\nInvoked with: <duckdb.DuckDBPyConnection object at 0x7fce90eaca30>"
     ]
    }
   ],
   "source": [
    "data = db.execute(\"select hw, count(*) as c from ans group by hw\").fetchdf()\n"
   ]
  },
  {
   "cell_type": "code",
   "execution_count": 13,
   "id": "33b3650b",
   "metadata": {
    "scrolled": true
   },
   "outputs": [
    {
     "name": "stdout",
     "output_type": "stream",
     "text": [
      "library(ggplot2)\n",
      "data = read.csv(\"/var/folders/cp/l8dwjczn72b9jd2q673pbjx00000gp/T/tmpwbybr_mq\",sep=\",\")\n",
      "p = ggplot(data,aes(x=hw,y=c)) + geom_bar() + coord_flip() + scale_x_discrete(name=\"Answer\") + scale_y_continuous(name=\"Count\")\n",
      "ggsave(\"plot.png\",p,height=3,scale=1,width=6)\n",
      "\n"
     ]
    },
    {
     "ename": "ValueError",
     "evalue": "ggplot2 bridge failed for program: library(ggplot2)\ndata = read.csv(\"/var/folders/cp/l8dwjczn72b9jd2q673pbjx00000gp/T/tmpwbybr_mq\",sep=\",\")\np = ggplot(data,aes(x=hw,y=c)) + geom_bar() + coord_flip() + scale_x_discrete(name=\"Answer\") + scale_y_continuous(name=\"Count\")\nggsave(\"plot.png\",p,height=3,scale=1,width=6). Check for an error",
     "output_type": "error",
     "traceback": [
      "\u001b[0;31m---------------------------------------------------------------------------\u001b[0m",
      "\u001b[0;31mValueError\u001b[0m                                Traceback (most recent call last)",
      "\u001b[0;32m<ipython-input-13-7d0bffc23d7a>\u001b[0m in \u001b[0;36m<module>\u001b[0;34m\u001b[0m\n\u001b[1;32m      1\u001b[0m \u001b[0mp\u001b[0m \u001b[0;34m=\u001b[0m \u001b[0mggplot\u001b[0m\u001b[0;34m(\u001b[0m\u001b[0mdata\u001b[0m\u001b[0;34m,\u001b[0m \u001b[0maes\u001b[0m\u001b[0;34m(\u001b[0m\u001b[0mx\u001b[0m\u001b[0;34m=\u001b[0m\u001b[0;34m\"hw\"\u001b[0m\u001b[0;34m,\u001b[0m \u001b[0my\u001b[0m\u001b[0;34m=\u001b[0m\u001b[0;34m\"c\"\u001b[0m\u001b[0;34m)\u001b[0m\u001b[0;34m)\u001b[0m \u001b[0;34m+\u001b[0m \u001b[0mgeom_bar\u001b[0m\u001b[0;34m(\u001b[0m\u001b[0;34m)\u001b[0m \u001b[0;34m+\u001b[0m \u001b[0mcoord_flip\u001b[0m\u001b[0;34m(\u001b[0m\u001b[0;34m)\u001b[0m \u001b[0;34m+\u001b[0m \u001b[0maxis_labels\u001b[0m\u001b[0;34m(\u001b[0m\u001b[0;34m\"Answer\"\u001b[0m\u001b[0;34m,\u001b[0m \u001b[0;34m\"Count\"\u001b[0m\u001b[0;34m,\u001b[0m \u001b[0;34m\"discrete\"\u001b[0m\u001b[0;34m)\u001b[0m\u001b[0;34m\u001b[0m\u001b[0;34m\u001b[0m\u001b[0m\n\u001b[0;32m----> 2\u001b[0;31m \u001b[0mggsave\u001b[0m\u001b[0;34m(\u001b[0m\u001b[0;34m\"plot.png\"\u001b[0m\u001b[0;34m,\u001b[0m \u001b[0mp\u001b[0m\u001b[0;34m,\u001b[0m \u001b[0mwidth\u001b[0m\u001b[0;34m=\u001b[0m\u001b[0;36m6\u001b[0m\u001b[0;34m,\u001b[0m \u001b[0mheight\u001b[0m\u001b[0;34m=\u001b[0m\u001b[0;36m3\u001b[0m\u001b[0;34m)\u001b[0m\u001b[0;34m\u001b[0m\u001b[0;34m\u001b[0m\u001b[0m\n\u001b[0m",
      "\u001b[0;32m~/.virtualenvs/py3/lib/python3.8/site-packages/pygg/pygg.py\u001b[0m in \u001b[0;36mggsave\u001b[0;34m(name, plot, data, *args, **kwargs)\u001b[0m\n\u001b[1;32m    316\u001b[0m \u001b[0;34m\u001b[0m\u001b[0m\n\u001b[1;32m    317\u001b[0m     \u001b[0;32mif\u001b[0m \u001b[0mname\u001b[0m\u001b[0;34m:\u001b[0m\u001b[0;34m\u001b[0m\u001b[0;34m\u001b[0m\u001b[0m\n\u001b[0;32m--> 318\u001b[0;31m         \u001b[0mexecute_r\u001b[0m\u001b[0;34m(\u001b[0m\u001b[0mprog\u001b[0m\u001b[0;34m,\u001b[0m \u001b[0mquiet\u001b[0m\u001b[0;34m)\u001b[0m\u001b[0;34m\u001b[0m\u001b[0;34m\u001b[0m\u001b[0m\n\u001b[0m\u001b[1;32m    319\u001b[0m     \u001b[0;32mreturn\u001b[0m \u001b[0mprog\u001b[0m\u001b[0;34m\u001b[0m\u001b[0;34m\u001b[0m\u001b[0m\n\u001b[1;32m    320\u001b[0m \u001b[0;34m\u001b[0m\u001b[0m\n",
      "\u001b[0;32m~/.virtualenvs/py3/lib/python3.8/site-packages/pygg/pygg.py\u001b[0m in \u001b[0;36mexecute_r\u001b[0;34m(prog, quiet)\u001b[0m\n\u001b[1;32m    393\u001b[0m                                  shell=True) # warning, this is a security problem\n\u001b[1;32m    394\u001b[0m         \u001b[0;32mif\u001b[0m \u001b[0mstatus\u001b[0m \u001b[0;34m!=\u001b[0m \u001b[0;36m0\u001b[0m\u001b[0;34m:\u001b[0m\u001b[0;34m\u001b[0m\u001b[0;34m\u001b[0m\u001b[0m\n\u001b[0;32m--> 395\u001b[0;31m             raise ValueError(\"ggplot2 bridge failed for program: {}.\"\n\u001b[0m\u001b[1;32m    396\u001b[0m                              \" Check for an error\".format(prog))\n\u001b[1;32m    397\u001b[0m     \u001b[0;32mfinally\u001b[0m\u001b[0;34m:\u001b[0m\u001b[0;34m\u001b[0m\u001b[0;34m\u001b[0m\u001b[0m\n",
      "\u001b[0;31mValueError\u001b[0m: ggplot2 bridge failed for program: library(ggplot2)\ndata = read.csv(\"/var/folders/cp/l8dwjczn72b9jd2q673pbjx00000gp/T/tmpwbybr_mq\",sep=\",\")\np = ggplot(data,aes(x=hw,y=c)) + geom_bar() + coord_flip() + scale_x_discrete(name=\"Answer\") + scale_y_continuous(name=\"Count\")\nggsave(\"plot.png\",p,height=3,scale=1,width=6). Check for an error"
     ]
    }
   ],
   "source": [
    "p = ggplot(data, aes(x=\"hw\", y=\"c\")) + geom_bar() + coord_flip() + axis_labels(\"Answer\", \"Count\", \"discrete\")\n",
    "ggsave(\"plot.png\", p, width=6, height=3)"
   ]
  },
  {
   "cell_type": "code",
   "execution_count": 22,
   "id": "da74a144",
   "metadata": {},
   "outputs": [],
   "source": [
    "db.close()\n"
   ]
  }
 ],
 "metadata": {
  "kernelspec": {
   "display_name": "Python 3",
   "language": "python",
   "name": "python3"
  },
  "language_info": {
   "codemirror_mode": {
    "name": "ipython",
    "version": 3
   },
   "file_extension": ".py",
   "mimetype": "text/x-python",
   "name": "python",
   "nbconvert_exporter": "python",
   "pygments_lexer": "ipython3",
   "version": "3.8.3"
  }
 },
 "nbformat": 4,
 "nbformat_minor": 5
}
